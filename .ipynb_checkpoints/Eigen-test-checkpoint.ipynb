{
 "cells": [
  {
   "cell_type": "code",
   "execution_count": null,
   "metadata": {
    "id": "e6H8fNOoGV4C"
   },
   "outputs": [],
   "source": [
    "%matplotlib inline\n",
    "\n",
    "import matplotlib.pyplot as plt\n",
    "\n",
    "import numpy as np\n",
    "from scipy.stats import kendalltau,spearmanr\n",
    "import torch\n",
    "from torch.nn.parameter import Parameter\n",
    "import torch.nn as nn\n",
    "import networkx as nx\n",
    "import time\n",
    "import os.path as osp\n",
    "from collections import defaultdict\n",
    "import pandas as pd\n",
    "import xlsxwriter\n",
    "from torch_geometric.nn import GCNConv,GATConv, SGConv, BatchNorm\n",
    "\n",
    "device = torch.device(\"cuda\") if torch.cuda.is_available() else torch.device(\"cpu\")\n",
    "torch.set_printoptions(precision=10)\n",
    "#gra = \"Email-Enron_gcn\"\n",
    "gra=\"scale\"\n",
    "path = \"data/real\"\n",
    "loader = \"/content/drive/My Drive/result_eigen/\""
   ]
  },
  {
   "cell_type": "code",
   "execution_count": null,
   "metadata": {
    "id": "PtaLP1X_VCfL"
   },
   "outputs": [],
   "source": [
    "def actual_eigen(g):\n",
    "\n",
    "    centrality_actual=nx.eigenvector_centrality_numpy(g)\n",
    "    \n",
    "    return centrality_actual"
   ]
  },
  {
   "cell_type": "code",
   "execution_count": null,
   "metadata": {
    "id": "UvfzhsIySckC"
   },
   "outputs": [],
   "source": [
    "def data_process(g, mode=\"test\"):\n",
    "    \n",
    "    adj = list(g.edges())\n",
    "    m = np.max(adj)\n",
    "    \n",
    "    features = torch.zeros(size=(m+1,1)).float()\n",
    "    \n",
    "    print(\"No.of nodes = \",m+1)\n",
    "    print(\"No.of edges = \",len(adj))\n",
    "\n",
    "    for u,_ in adj:\n",
    "        features[u,0]+=1\n",
    "\n",
    "    features = features/max(features)\n",
    "    adj = torch.LongTensor(adj).t().contiguous()\n",
    " \n",
    "    return adj.to(device), features.to(device)"
   ]
  },
  {
   "cell_type": "code",
   "execution_count": null,
   "metadata": {
    "id": "s5c5vPK9SiTH"
   },
   "outputs": [],
   "source": [
    "class Model(nn.Module):\n",
    "    def __init__(self, nin, nhid1, nout, hid_l, out_l=1):\n",
    "        super(Model, self).__init__()\n",
    "        \n",
    "        self.gc1 = GCNConv(in_channels= nin, out_channels= nhid1)\n",
    "        self.bc1 = BatchNorm(nhid1)\n",
    "        self.gc2 = GCNConv(in_channels= nhid1, out_channels= nout)\n",
    "        self.bc2 = BatchNorm(nhid1)\n",
    "        self.lay1 = nn.Linear(nout ,hid_l)\n",
    "        self.l0 = nn.Linear(hid_l,hid_l)\n",
    "        self.lb0 = nn.BatchNorm1d(hid_l)\n",
    "        self.l1 = nn.Linear(hid_l,hid_l)\n",
    "        self.lb1 = nn.BatchNorm1d(hid_l)\n",
    "        self.lay2 = nn.Linear(hid_l ,out_l)\n",
    "        self.active1 = nn.LeakyReLU(0.1)\n",
    "        \n",
    "        with torch.no_grad():\n",
    "            self.gc1.weight = Parameter(nn.init.uniform_(torch.empty(nin,nhid1),a=0.0,b=1.0))\n",
    "            self.gc1.bias = Parameter(nn.init.uniform_(torch.empty(nhid1),a=0.0,b=1.0))\n",
    "            self.gc2.weight = Parameter(nn.init.uniform_(torch.empty(nhid1,nout),a=0.0,b=1.0))\n",
    "            self.gc2.bias = Parameter(nn.init.uniform_(torch.empty(nout),a=0.0,b=1.0))\n",
    "            self.lay1.weight = Parameter(nn.init.uniform_(torch.empty(hid_l, nout ),a=0.0,b=1.0))\n",
    "            self.l0.weight = Parameter(nn.init.uniform_(torch.empty(hid_l, hid_l),a=0.0,b=1.0))\n",
    "            self.l1.weight = Parameter(nn.init.uniform_(torch.empty(hid_l, hid_l),a=0.0,b=1.0))\n",
    "            self.lay2.weight = Parameter(nn.init.uniform_(torch.empty(out_l,hid_l),a=0.0,b=1.0))\n",
    "\n",
    "\n",
    "    def forward(self, x, adj):\n",
    "        x = self.gc1(x, adj)\n",
    "        x = self.bc1(x)\n",
    "        x = self.gc2(x, adj)\n",
    "        x = self.bc2(x)\n",
    "        x = self.lay1(x)\n",
    "        x = self.l0(x)\n",
    "        x = self.lb0(x)\n",
    "        x = self.l1(x)\n",
    "        x = self.lb1(x)\n",
    "        x = self.lay2(x)\n",
    "        \n",
    "        return self.active1(x)"
   ]
  },
  {
   "cell_type": "code",
   "execution_count": null,
   "metadata": {
    "id": "a_CDyPYxSk7f"
   },
   "outputs": [],
   "source": [
    "def test_model(features, adj):\n",
    "    model.eval()\n",
    "    with torch.no_grad():\n",
    "        y = model(features, adj)\n",
    "    return y"
   ]
  },
  {
   "cell_type": "code",
   "execution_count": null,
   "metadata": {
    "colab": {
     "base_uri": "https://localhost:8080/"
    },
    "executionInfo": {
     "elapsed": 26267,
     "status": "ok",
     "timestamp": 1620300547672,
     "user": {
      "displayName": "Appan Rakaraddi",
      "photoUrl": "https://lh3.googleusercontent.com/a-/AOh14Gg637BVl71qJ24PvNWwfKZ69ZGSnsKPJVdu_vLJ=s64",
      "userId": "09434978287095253388"
     },
     "user_tz": -480
    },
    "id": "JNDPG4zNSuzG",
    "outputId": "9f49156f-0aac-482f-bd19-d45525e8cd18"
   },
   "outputs": [],
   "source": [
    "def test(g):\n",
    "    \n",
    "    adj,features = data_process(g)\n",
    "    net_time=time.time()\n",
    "\n",
    "    y = test_model(features, adj)\n",
    "    tn.append(time.time()-net_time)\n",
    "    print(\"Time Net Test= \",time.time()-net_time)\n",
    "    \n",
    "    z = defaultdict(list)\n",
    "    for i in range(len(y)):\n",
    "        z[i] = y[i]\n",
    "    x_net = list({k: v for k, v in sorted(z.items(), key=lambda item: item[1], reverse=True)}.keys())\n",
    "    #print(\"x_net = \",x_net)\n",
    "    \n",
    "    #Actual Eigen\n",
    "    print(\"$\"*300)\n",
    "    s1 = time.time()\n",
    "    yy=actual_eigen(g)\n",
    "    tr.append(time.time()-s1)\n",
    "\n",
    "    x_actual = list({k: v for k, v in sorted(yy.items(), key=lambda item: item[1], reverse=True)}.keys())\n",
    "    \n",
    "    #print(\"\\n\\nx_actual = \",x_actual)\n",
    "    per = [0.05, 0.1, 0.15, 0.2]\n",
    "    \n",
    "    for k in per:\n",
    "    \n",
    "        print(\"Top {}%:\".format(k*100))  \n",
    "        \n",
    "        x_net_set = set(x_net[:int(k*len(features))])\n",
    "        x_actual_set = set(x_actual[:int(k*len(features))])\n",
    "\n",
    "        l = len(x_net_set.intersection(x_actual_set))\n",
    "        print(l)\n",
    "\n",
    "        ll = len(x_net_set)\n",
    "        print(ll)\n",
    "\n",
    "        acc = l/ll\n",
    "        print(acc*100, \"%\\n\\n\")\n",
    "        \n",
    "        if k==0.05:\n",
    "            l5.append(acc)\n",
    "        elif k==0.1:\n",
    "            l10.append(acc)\n",
    "        elif k==0.15:\n",
    "            l15.append(acc)\n",
    "        elif k==0.2:\n",
    "            l20.append(acc)\n",
    "        print(\"%\"*200)\n",
    "\n",
    "model= Model(nin = 1, nhid1=128, nout=128, hid_l=64, out_l=1).to(device)\n",
    "model.load_state_dict(torch.load(loader+\"/rt-retweet-crawl_gcn.pt\"))"
   ]
  },
  {
   "cell_type": "code",
   "execution_count": null,
   "metadata": {
    "colab": {
     "base_uri": "https://localhost:8080/"
    },
    "executionInfo": {
     "elapsed": 550543,
     "status": "ok",
     "timestamp": 1620301071953,
     "user": {
      "displayName": "Appan Rakaraddi",
      "photoUrl": "https://lh3.googleusercontent.com/a-/AOh14Gg637BVl71qJ24PvNWwfKZ69ZGSnsKPJVdu_vLJ=s64",
      "userId": "09434978287095253388"
     },
     "user_tz": -480
    },
    "id": "v1eQl52rgjNQ",
    "outputId": "cf8a69a5-8b51-4c1a-a44b-2b88846907a0"
   },
   "outputs": [],
   "source": [
    "l5, l10, l15, l20 = [],[],[],[]\n",
    "tn, tr = [],[]\n",
    "\n",
    "g = nx.read_edgelist(osp.join(path,\"rt-retweet-crawl.edgelist\"), nodetype=int)\n",
    "test(g)\n",
    "print(\"Average accuracy = \",np.mean(l5),np.mean(l10),np.mean(l15),np.mean(l20),sep=\"\\n\")\n",
    "\n",
    "def color_negative_red(val):\n",
    "    color = 'red' if val >0.65 else 'black'\n",
    "    return 'color: %s' % color\n",
    "\n",
    "df = pd.DataFrame(list(zip(l5,l10,l15,l20,tn,tr)),columns=[\"Top-5%\",\"Top-10%\",\"Top-15%\",\"Top-20%\",\"Net time\",\"Real time\"])\n",
    "df = df.style.applymap(color_negative_red)\n",
    "writer = pd.ExcelWriter(loader+gra+\".xlsx\", engine = 'xlsxwriter')\n",
    "df.to_excel(writer)\n",
    "writer.save() \n",
    "writer.close()"
   ]
  },
  {
   "cell_type": "code",
   "execution_count": null,
   "metadata": {
    "id": "6m3x8uj5S2Tv"
   },
   "outputs": [],
   "source": [
    "l5, l10, l15, l20 = [],[],[],[]\n",
    "tn, tr = [],[]\n",
    "\n",
    "for i in range(50):\n",
    "  g = nx.read_edgelist(osp.join(path,gra+\"_1k/\"+gra+\"1k_\"+str(i)),nodetype=int)\n",
    "  print(gra,\"1k_\"+str(i))\n",
    "  test(g)\n",
    "\n",
    "print(\"Average accuracy = \",np.mean(l5),np.mean(l10),np.mean(l15),np.mean(l20),sep=\"\\n\")\n",
    "\n",
    "def color_negative_red(val):\n",
    "    color = 'red' if val >0.65 else 'black'\n",
    "    return 'color: %s' % color\n",
    "\n",
    "df = pd.DataFrame(list(zip(l5,l10,l15,l20,tn,tr)),columns=[\"Top-5%\",\"Top-10%\",\"Top-15%\",\"Top-20%\",\"Net time\",\"Real time\"])\n",
    "df = df.style.applymap(color_negative_red)\n",
    "print(np.mean(tn),np.mean(tr))\n",
    "#writer = pd.ExcelWriter(loader+gra+\".xlsx\", engine = 'xlsxwriter')\n",
    "#df.to_excel(writer,sheet_name=\"1k\")"
   ]
  },
  {
   "cell_type": "markdown",
   "metadata": {
    "id": "17v12qGsS6Q3"
   },
   "source": [
    "l5, l10, l15, l20 = [],[],[],[]\n",
    "tn, tr = [],[]\n",
    "\n",
    "for i in range(10):\n",
    "  g = nx.read_edgelist(osp.join(path,gra+\"_10k/\"+gra+\"10k_\"+str(i)),nodetype=int)\n",
    "  print(gra,\"10k_\"+str(i))\n",
    "  test(g)\n",
    "print(\"Average accuracy = \",np.mean(l5),np.mean(l10),np.mean(l15),np.mean(l20),sep=\"\\n\")\n",
    "df = pd.DataFrame(list(zip(l5,l10,l15,l20,tn,tr)),columns=[\"Top-5%\",\"Top-10%\",\"Top-15%\",\"Top-20%\",\"Net time\",\"Real time\"])\n",
    "\n",
    "print(np.mean(tn),np.mean(tr))\n",
    "\n",
    "#df = df.style.applymap(color_negative_red)\n",
    "#df.to_excel(writer,sheet_name=\"10k\")"
   ]
  },
  {
   "cell_type": "markdown",
   "metadata": {
    "id": "WNJIZfwTS8pn"
   },
   "source": [
    "l5, l10, l15, l20 = [],[],[],[]\n",
    "tn, tr = [],[]\n",
    "\n",
    "for i in range(10):\n",
    "  g = nx.read_edgelist(osp.join(path,gra+\"_20k/\"+gra+\"20k_\"+str(i)),nodetype=int)\n",
    "  print(gra,\"20k_\"+str(i))\n",
    "  test(g)\n",
    "print(\"Average accuracy = \",np.mean(l5),np.mean(l10),np.mean(l15),np.mean(l20),sep=\"\\n\")\n",
    "df = pd.DataFrame(list(zip(l5,l10,l15,l20,tn,tr)),columns=[\"Top-5%\",\"Top-10%\",\"Top-15%\",\"Top-20%\",\"Net time\",\"Real time\"])\n",
    "\n",
    "print(np.mean(tn),np.mean(tr))\n",
    "\n",
    "#df = df.style.applymap(color_negative_red)\n",
    "#df.to_excel(writer,sheet_name=\"20k\")"
   ]
  },
  {
   "cell_type": "markdown",
   "metadata": {
    "id": "h24CecGSS_MP"
   },
   "source": [
    "l5, l10, l15, l20 = [],[],[],[]\n",
    "tn, tr = [],[]\n",
    "\n",
    "for i in range(10):\n",
    "  g = nx.read_edgelist(osp.join(path,gra+\"_50k/\"+gra+\"50k_\"+str(i)),nodetype=int)\n",
    "  print(gra,\"50k_\"+str(i))\n",
    "  test(g)\n",
    "print(\"Average accuracy = \",np.mean(l5),np.mean(l10),np.mean(l15),np.mean(l20),sep=\"\\n\")\n",
    "df = pd.DataFrame(list(zip(l5,l10,l15,l20,tn,tr)),columns=[\"Top-5%\",\"Top-10%\",\"Top-15%\",\"Top-20%\",\"Net time\",\"Real time\"])\n",
    "\n",
    "print(np.mean(tn),np.mean(tr))\n",
    "\n",
    "#df = df.style.applymap(color_negative_red)\n",
    "#df.to_excel(writer,sheet_name=\"50k\")"
   ]
  },
  {
   "cell_type": "markdown",
   "metadata": {
    "id": "t5qzbdx4TLSY"
   },
   "source": [
    "l5, l10, l15, l20 = [],[],[],[]\n",
    "tn, tr = [],[]\n",
    "\n",
    "for i in range(5):\n",
    "  g = nx.read_edgelist(osp.join(path,gra+\"_100k/\"+gra+\"100k_\"+str(i)),nodetype=int)\n",
    "  print(gra,\"100k_\"+str(i))\n",
    "  test(g)\n",
    "print(\"Average accuracy = \",np.mean(l5),np.mean(l10),np.mean(l15),np.mean(l20),sep=\"\\n\")\n",
    "df = pd.DataFrame(list(zip(l5,l10,l15,l20,tn,tr)),columns=[\"Top-5%\",\"Top-10%\",\"Top-15%\",\"Top-20%\",\"Net time\",\"Real time\"])\n",
    "\n",
    "print(np.mean(tn),np.mean(tr))\n",
    "\n",
    "#df = df.style.applymap(color_negative_red)\n",
    "#df.to_excel(writer,sheet_name=\"100k\")\n",
    "\n",
    "#writer.save()\n",
    "#writer.close()"
   ]
  }
 ],
 "metadata": {
  "accelerator": "GPU",
  "colab": {
   "authorship_tag": "ABX9TyNukLTvDtERTPZxwJ1wPYCN",
   "name": "Eigen-test.ipynb",
   "provenance": []
  },
  "kernelspec": {
   "display_name": "Python 3",
   "language": "python",
   "name": "python3"
  },
  "language_info": {
   "codemirror_mode": {
    "name": "ipython",
    "version": 3
   },
   "file_extension": ".py",
   "mimetype": "text/x-python",
   "name": "python",
   "nbconvert_exporter": "python",
   "pygments_lexer": "ipython3",
   "version": "3.8.8"
  }
 },
 "nbformat": 4,
 "nbformat_minor": 1
}
