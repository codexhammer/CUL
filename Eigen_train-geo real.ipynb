{
 "cells": [
  {
   "cell_type": "code",
   "execution_count": null,
   "metadata": {
    "executionInfo": {
     "elapsed": 8579,
     "status": "ok",
     "timestamp": 1629917218399,
     "user": {
      "displayName": "Appan Rakaraddi",
      "photoUrl": "https://lh3.googleusercontent.com/a-/AOh14Gg637BVl71qJ24PvNWwfKZ69ZGSnsKPJVdu_vLJ=s64",
      "userId": "09434978287095253388"
     },
     "user_tz": -480
    },
    "id": "pKd0Qw7j6Xmr"
   },
   "outputs": [],
   "source": [
    "%matplotlib inline\n",
    "\n",
    "import matplotlib.pyplot as plt\n",
    "\n",
    "import numpy as np\n",
    "import torch\n",
    "from torch.nn.parameter import Parameter\n",
    "import torch.optim as optim\n",
    "import torch.nn.functional as F\n",
    "import torch.nn as nn\n",
    "import networkx as nx\n",
    "import time\n",
    "import os.path as osp\n",
    "from collections import defaultdict\n",
    "import pandas as pd\n",
    "# import xlsxwriter\n",
    "from torch_geometric.nn import GCNConv,GATConv, SGConv, BatchNorm\n",
    "torch.manual_seed(0)\n",
    "\n",
    "device = torch.device(\"cuda\") if torch.cuda.is_available() else torch.device(\"cpu\")\n",
    "torch.set_printoptions(precision=10)\n",
    "gra_train = \"scale\"\n",
    "path_train = \"data/\"+gra_train\n",
    "path_test = \"data/\"\n",
    "\n",
    "dataset = \"cit-DBLP\""
   ]
  },
  {
   "cell_type": "code",
   "execution_count": null,
   "metadata": {
    "executionInfo": {
     "elapsed": 13,
     "status": "ok",
     "timestamp": 1629917218400,
     "user": {
      "displayName": "Appan Rakaraddi",
      "photoUrl": "https://lh3.googleusercontent.com/a-/AOh14Gg637BVl71qJ24PvNWwfKZ69ZGSnsKPJVdu_vLJ=s64",
      "userId": "09434978287095253388"
     },
     "user_tz": -480
    },
    "id": "F2HS-03C-kFI"
   },
   "outputs": [],
   "source": [
    "def data_process(g, mode=\"test\"):\n",
    "  \n",
    "    adj = list(g.edges())\n",
    "    m = g.number_of_nodes()\n",
    "\n",
    "    features = torch.zeros(size=(m,1)).float()\n",
    "    \n",
    "    print(\"No.of nodes = \",m)\n",
    "    print(\"No.of edges = \",g.number_of_edges())\n",
    "\n",
    "    for u,_ in adj:\n",
    "        features[u,0]+=1\n",
    "\n",
    "    features = features/max(features)\n",
    "    adj = torch.LongTensor(adj).t().contiguous()\n",
    " \n",
    "    if mode == \"train\":\n",
    "        \n",
    "        adj_mat = torch.from_numpy(nx.to_numpy_array(g))\n",
    "        adj_mat = F.normalize(adj_mat, p=1,dim=1).float()\n",
    "        \n",
    "        return adj.to(device), features.to(device), adj_mat.to(device)\n",
    "    \n",
    "    else:\n",
    "        return adj.to(device), features.to(device)"
   ]
  },
  {
   "cell_type": "code",
   "execution_count": null,
   "metadata": {
    "executionInfo": {
     "elapsed": 13,
     "status": "ok",
     "timestamp": 1629917218400,
     "user": {
      "displayName": "Appan Rakaraddi",
      "photoUrl": "https://lh3.googleusercontent.com/a-/AOh14Gg637BVl71qJ24PvNWwfKZ69ZGSnsKPJVdu_vLJ=s64",
      "userId": "09434978287095253388"
     },
     "user_tz": -480
    },
    "id": "MeiDzZj5-kFJ"
   },
   "outputs": [],
   "source": [
    "def eigen_vector_calc(adj_mat, y):\n",
    "    \n",
    "    z = torch.spmm(adj_mat,y)\n",
    "    y = y / (torch.linalg.norm(y))\n",
    "    z = z/ (torch.linalg.norm(z))\n",
    "    \n",
    "    return y,z"
   ]
  },
  {
   "cell_type": "code",
   "execution_count": null,
   "metadata": {
    "executionInfo": {
     "elapsed": 6,
     "status": "ok",
     "timestamp": 1629917218918,
     "user": {
      "displayName": "Appan Rakaraddi",
      "photoUrl": "https://lh3.googleusercontent.com/a-/AOh14Gg637BVl71qJ24PvNWwfKZ69ZGSnsKPJVdu_vLJ=s64",
      "userId": "09434978287095253388"
     },
     "user_tz": -480
    },
    "id": "kknkPgvS-kFJ"
   },
   "outputs": [],
   "source": [
    "class Model(nn.Module):\n",
    "    def __init__(self, nin, nhid1, nout, hid_l, out_l=1):\n",
    "        super(Model, self).__init__()\n",
    "        \n",
    "        self.gc1 = GCNConv(in_channels= nin, out_channels= nhid1)\n",
    "        self.bc1 = BatchNorm(nhid1)\n",
    "        self.gc2 = GCNConv(in_channels= nhid1, out_channels= nout)\n",
    "        self.bc2 = BatchNorm(nhid1)\n",
    "        self.lay1 = nn.Linear(nout ,hid_l)\n",
    "        self.l0 = nn.Linear(hid_l,hid_l)\n",
    "        self.lb0 = nn.BatchNorm1d(hid_l)\n",
    "        self.l1 = nn.Linear(hid_l,hid_l)\n",
    "        self.lb1 = nn.BatchNorm1d(hid_l)\n",
    "        self.lay2 = nn.Linear(hid_l ,out_l)\n",
    "        self.active1 = nn.LeakyReLU(0.1)\n",
    "        \n",
    "        with torch.no_grad():\n",
    "            self.gc1.weight = Parameter(nn.init.uniform_(torch.empty(nin,nhid1),a=0.0,b=1.0))\n",
    "            self.gc1.bias = Parameter(nn.init.uniform_(torch.empty(nhid1),a=0.0,b=1.0))\n",
    "            self.gc2.weight = Parameter(nn.init.uniform_(torch.empty(nhid1,nout),a=0.0,b=1.0))\n",
    "            self.gc2.bias = Parameter(nn.init.uniform_(torch.empty(nout),a=0.0,b=1.0))\n",
    "            self.lay1.weight = Parameter(nn.init.uniform_(torch.empty(hid_l, nout ),a=0.0,b=1.0))\n",
    "            self.l0.weight = Parameter(nn.init.uniform_(torch.empty(hid_l, hid_l),a=0.0,b=1.0))\n",
    "            self.l1.weight = Parameter(nn.init.uniform_(torch.empty(hid_l, hid_l),a=0.0,b=1.0))\n",
    "            self.lay2.weight = Parameter(nn.init.uniform_(torch.empty(out_l,hid_l),a=0.0,b=1.0))\n",
    "\n",
    "\n",
    "    def forward(self, x, adj):\n",
    "        x = self.gc1(x, adj)\n",
    "        x = self.bc1(x)\n",
    "        x = self.gc2(x, adj)\n",
    "        x = self.bc2(x)\n",
    "        x = self.lay1(x)\n",
    "        x = self.l0(x)\n",
    "        x = self.lb0(x)\n",
    "        x = self.l1(x)\n",
    "        x = self.lb1(x)\n",
    "        x = self.lay2(x)\n",
    "        \n",
    "        return self.active1(x)"
   ]
  },
  {
   "cell_type": "code",
   "execution_count": null,
   "metadata": {
    "executionInfo": {
     "elapsed": 5,
     "status": "ok",
     "timestamp": 1629917218918,
     "user": {
      "displayName": "Appan Rakaraddi",
      "photoUrl": "https://lh3.googleusercontent.com/a-/AOh14Gg637BVl71qJ24PvNWwfKZ69ZGSnsKPJVdu_vLJ=s64",
      "userId": "09434978287095253388"
     },
     "user_tz": -480
    },
    "id": "Kr9c3zKd-kFM"
   },
   "outputs": [],
   "source": [
    "def train_model(epoch):\n",
    "    model.train()\n",
    "    optimizer.zero_grad()\n",
    "    t = time.time()\n",
    "    y = model(features,adj)\n",
    "    \n",
    "    y,z = eigen_vector_calc(adj_mat, y)\n",
    "    \n",
    "    loss1 = nn.MSELoss()(y,z)\n",
    "    loss2 = -y.abs().mean()\n",
    "    loss_train = loss1 + loss2\n",
    "    loss_temp.append(loss_train.cpu().detach())\n",
    "    \n",
    "    loss_train.backward(retain_graph=True)\n",
    "    optimizer.step()\n",
    "    \n",
    "    if epoch%50==0:\n",
    "        print(\"MSE loss = \",loss1,\"\\t\",\"Mean Loss = \",loss2)\n",
    "        print('Epoch: {:04d}'.format(epoch+1),\n",
    "                  'loss_train: {:.10f}'.format(loss_train.item()),\n",
    "                  'time: {:.4f}s'.format(time.time() - t))\n",
    "        \n",
    "    \n",
    "    return y"
   ]
  },
  {
   "cell_type": "code",
   "execution_count": null,
   "metadata": {
    "colab": {
     "base_uri": "https://localhost:8080/"
    },
    "executionInfo": {
     "elapsed": 470882,
     "status": "ok",
     "timestamp": 1629917689795,
     "user": {
      "displayName": "Appan Rakaraddi",
      "photoUrl": "https://lh3.googleusercontent.com/a-/AOh14Gg637BVl71qJ24PvNWwfKZ69ZGSnsKPJVdu_vLJ=s64",
      "userId": "09434978287095253388"
     },
     "user_tz": -480
    },
    "id": "Tz6_cGlh-kFN",
    "outputId": "1dc53e40-304a-488a-a825-173039cb714f",
    "scrolled": true
   },
   "outputs": [],
   "source": [
    "if __name__==\"__main__\":\n",
    "    \n",
    "    #Training\n",
    "\n",
    "    loss_plot = []\n",
    "    \n",
    "    model= Model(nin = 1, nhid1=128, nout=128, hid_l=64, out_l=1).to(device)\n",
    "    \n",
    "    optimizer = optim.Adam(model.parameters(), lr = 0.001)\n",
    "    #flag = False\n",
    "    g = nx.read_edgelist(osp.join(path_test, dataset+\".edgelist\"),nodetype=int)\n",
    "    no_of_nodes = g.number_of_nodes()\n",
    "    \n",
    "    for i in range(30):\n",
    "        print(\"\\n\\n Graph number\",i,\"\\n\",\"-\"*120)\n",
    "        #if flag: break\n",
    "        \n",
    "        samples = np.random.randint(low=0, high=no_of_nodes)\n",
    "\n",
    "        g_subgraph = nx.bfs_tree(g, source=samples, depth_limit=2)\n",
    "        map = dict( list(zip(list(g_subgraph.nodes()), list(range(g_subgraph.number_of_nodes())))))\n",
    "        g_subgraph = g.subgraph(g_subgraph)\n",
    "        g_subgraph = nx.relabel_nodes(g_subgraph,map)\n",
    "        #g = nx.read_edgelist(osp.join(path_train,gra_train+\"_1k/\"+gra_train+\"1k_\"+str(i)),nodetype=int)\n",
    "        adj,features,adj_mat = data_process(g_subgraph ,mode=\"train\")\n",
    "        print(\"adj_list = \",adj.shape,\"adj_mat = \",adj_mat.shape)\n",
    "\n",
    "        loss_temp=[]\n",
    "        net_time = time.time()\n",
    "        \n",
    "        for ep in range(150):\n",
    "            y = train_model(ep)\n",
    "            if ep%50==0:\n",
    "                print(\"Time Net = \",time.time()-net_time,\"\\n\\n\")\n",
    "                '''\n",
    "                print(\"{:^10}\".format(\"-------Validation-------\"))\n",
    "                l5, l10, l15, l20 = [],[],[],[]\n",
    "                test(g)\n",
    "                if l5[0]>0.5 and l10>0.55:\n",
    "                  flag = True\n",
    "                  break\n",
    "                '''\n",
    "        # loss_plot.append((np.mean(loss_temp), i))"
   ]
  },
  {
   "cell_type": "code",
   "execution_count": null,
   "metadata": {
    "colab": {
     "base_uri": "https://localhost:8080/"
    },
    "executionInfo": {
     "elapsed": 528,
     "status": "ok",
     "timestamp": 1629917690315,
     "user": {
      "displayName": "Appan Rakaraddi",
      "photoUrl": "https://lh3.googleusercontent.com/a-/AOh14Gg637BVl71qJ24PvNWwfKZ69ZGSnsKPJVdu_vLJ=s64",
      "userId": "09434978287095253388"
     },
     "user_tz": -480
    },
    "id": "p0NZ1Ohdl3k2",
    "outputId": "5b0695d0-02a7-403c-939b-4a7dffb60b96"
   },
   "outputs": [],
   "source": [
    "# print(loss_plot)\n",
    "# np.save(\"/content/drive/My Drive/result_eigen/loss/l2\",loss_plot)\n",
    "torch.save(model.state_dict(), \"result_eigen/\"+dataset+\".pt\")\n",
    "# writer = pd.ExcelWriter(\"/content/drive/My Drive/result_eigen/rt-retweet-crawl_gcn.xlsx\", engine = 'xlsxwriter')\n",
    "# df = pd.DataFrame(list(zip(l5,l10,l15,l20)),columns=[\"Top-5%\",\"Top-10%\",\"Top-15%\",\"Top-20%\"])\n",
    "# df.to_excel(writer)\n",
    "# writer.save()\n",
    "# writer.close()"
   ]
  },
  {
   "cell_type": "code",
   "execution_count": null,
   "metadata": {},
   "outputs": [],
   "source": []
  }
 ],
 "metadata": {
  "accelerator": "GPU",
  "colab": {
   "name": "Eigen_train-geo real.ipynb",
   "provenance": []
  },
  "kernelspec": {
   "display_name": "Python 3",
   "language": "python",
   "name": "python3"
  },
  "language_info": {
   "codemirror_mode": {
    "name": "ipython",
    "version": 3
   },
   "file_extension": ".py",
   "mimetype": "text/x-python",
   "name": "python",
   "nbconvert_exporter": "python",
   "pygments_lexer": "ipython3",
   "version": "3.8.8"
  }
 },
 "nbformat": 4,
 "nbformat_minor": 1
}
